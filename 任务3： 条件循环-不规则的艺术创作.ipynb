{
 "cells": [
  {
   "cell_type": "markdown",
   "metadata": {},
   "source": [
    "步骤1：补充完整下列代码，让海龟的路径按照用户的意愿进行描绘"
   ]
  },
  {
   "cell_type": "code",
   "execution_count": 3,
   "metadata": {},
   "outputs": [
    {
     "ename": "IndentationError",
     "evalue": "expected an indented block (<ipython-input-3-68d65025ace6>, line 9)",
     "output_type": "error",
     "traceback": [
      "\u001b[1;36m  File \u001b[1;32m\"<ipython-input-3-68d65025ace6>\"\u001b[1;36m, line \u001b[1;32m9\u001b[0m\n\u001b[1;33m    move()\u001b[0m\n\u001b[1;37m       ^\u001b[0m\n\u001b[1;31mIndentationError\u001b[0m\u001b[1;31m:\u001b[0m expected an indented block\n"
     ]
    }
   ],
   "source": [
    "from mobilechelonian import Turtle\n",
    "turtle=Turtle()\n",
    " \n",
    "turtle.forward(100)\n",
    "def move():\n",
    "\n",
    " #在此处填入代码\n",
    "\n",
    "move()"
   ]
  },
  {
   "cell_type": "markdown",
   "metadata": {},
   "source": [
    "步骤2：补充完整下列代码，让海龟的路径按照用户的意愿进行描绘，把只用if的语句修改为使用else的语句："
   ]
  },
  {
   "cell_type": "code",
   "execution_count": 4,
   "metadata": {},
   "outputs": [],
   "source": [
    "from mobilechelonian import Turtle\n",
    "turtle=Turtle()\n",
    " \n",
    "turtle.forward(100)\n",
    "def move():\n",
    "\n",
    " #在此处填入代码\n",
    "\n",
    "move()\n"
   ]
  },
  {
   "cell_type": "raw",
   "metadata": {},
   "source": [
    "步骤3：补充完整下列代码，让海龟的路径按照用户的意愿进行描绘，把只用if的语句修改为使用elif的语句："
   ]
  },
  {
   "cell_type": "code",
   "execution_count": null,
   "metadata": {},
   "outputs": [],
   "source": [
    "from mobilechelonian import Turtle\n",
    "turtle=Turtle()\n",
    " \n",
    "turtle.forward(100)\n",
    "def move():\n",
    "\n",
    " #在此处填入代码\n",
    "\n",
    "move()\n"
   ]
  },
  {
   "cell_type": "raw",
   "metadata": {},
   "source": [
    "步骤4：补充完整下列代码，自己动手写forward函数"
   ]
  },
  {
   "cell_type": "code",
   "execution_count": 2,
   "metadata": {},
   "outputs": [
    {
     "ename": "IndentationError",
     "evalue": "expected an indented block (<ipython-input-2-f76ee8a9ca76>, line 10)",
     "output_type": "error",
     "traceback": [
      "\u001b[1;36m  File \u001b[1;32m\"<ipython-input-2-f76ee8a9ca76>\"\u001b[1;36m, line \u001b[1;32m10\u001b[0m\n\u001b[1;33m    forward(100)\u001b[0m\n\u001b[1;37m          ^\u001b[0m\n\u001b[1;31mIndentationError\u001b[0m\u001b[1;31m:\u001b[0m expected an indented block\n"
     ]
    }
   ],
   "source": [
    "from mobilechelonian import Turtle\n",
    "turtle=Turtle()\n",
    "\n",
    "def forward(max_distance):\n",
    "\n",
    " #在此处填入代码\n",
    "\n",
    "forward(100)\n"
   ]
  },
  {
   "cell_type": "raw",
   "metadata": {},
   "source": [
    "步骤5：补充完整下列代码，让海龟在一条直线上折返爬行"
   ]
  },
  {
   "cell_type": "code",
   "execution_count": null,
   "metadata": {},
   "outputs": [],
   "source": [
    "from mobilechelonian import Turtle\n",
    "turtle=Turtle()\n",
    "\n",
    "\n",
    "def forward(max_distance, max_radius):\n",
    "\n",
    " #在此处填入代码\n",
    "\n",
    "forward(550, 100)\n"
   ]
  },
  {
   "cell_type": "raw",
   "metadata": {},
   "source": [
    "实训：利用条件循环制作一个乌龟\n",
    "\n",
    "要求： 乌龟从起点出发，当距离原点一定距离时随机转向\n",
    "     乌龟爬行的路径一直在一个圆内"
   ]
  },
  {
   "cell_type": "raw",
   "metadata": {},
   "source": [
    "提示：\n",
    "\n",
    "turtle.towards(x, y=None)\n",
    "返回(海龟)箭头当前位置指向(x,y)位置连线的向量的角度\n",
    "turtle.setheading(angle)\n",
    "设置海龟的朝向\n",
    "turtle.distance(x, y=None)\n",
    "返回当前(海龟)箭头坐标与坐标(x,y)间距离或当前(海龟)箭头坐标与另一个(海龟)箭头坐标间距离\n",
    "import random 引用随机数模块\n",
    "random.randint(x, y) 在[x,y]范围内随机生成一个整数\n",
    "函数原型："
   ]
  },
  {
   "cell_type": "code",
   "execution_count": 4,
   "metadata": {},
   "outputs": [
    {
     "ename": "IndentationError",
     "evalue": "expected an indented block (<ipython-input-4-cfbb73df8ee9>, line 12)",
     "output_type": "error",
     "traceback": [
      "\u001b[1;36m  File \u001b[1;32m\"<ipython-input-4-cfbb73df8ee9>\"\u001b[1;36m, line \u001b[1;32m12\u001b[0m\n\u001b[1;33m    forward(5, 100)\u001b[0m\n\u001b[1;37m          ^\u001b[0m\n\u001b[1;31mIndentationError\u001b[0m\u001b[1;31m:\u001b[0m expected an indented block\n"
     ]
    }
   ],
   "source": [
    "from mobilechelonian import Turtle\n",
    "import random\n",
    "turtle=Turtle()\n",
    "\n",
    "turtle.shape(\"turtle\")\n",
    "\n",
    "\n",
    "def forward(max_distance, max_radius):\n",
    " #在此处填入代码\n",
    "\n",
    "\n",
    "forward(5, 100)\n",
    "\n",
    "turtle.exitonclick()"
   ]
  }
 ],
 "metadata": {
  "kernelspec": {
   "display_name": "Python 3",
   "language": "python",
   "name": "python3"
  },
  "language_info": {
   "codemirror_mode": {
    "name": "ipython",
    "version": 3
   },
   "file_extension": ".py",
   "mimetype": "text/x-python",
   "name": "python",
   "nbconvert_exporter": "python",
   "pygments_lexer": "ipython3",
   "version": "3.7.3"
  }
 },
 "nbformat": 4,
 "nbformat_minor": 2
}
