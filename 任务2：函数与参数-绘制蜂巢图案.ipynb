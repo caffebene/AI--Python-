{
 "cells": [
  {
   "cell_type": "raw",
   "metadata": {},
   "source": [
    "步骤1：使用 def 关键字来定义函数"
   ]
  },
  {
   "cell_type": "code",
   "execution_count": null,
   "metadata": {},
   "outputs": [],
   "source": [
    "def line_without_moving():\n",
    "    turtle.forward(100)\n",
    "    turtle.backward(100)"
   ]
  },
  {
   "cell_type": "markdown",
   "metadata": {},
   "source": [
    "步骤2：补充完整下列代码，使用定义的line_without_moving()函数在屏幕上画一个十字"
   ]
  },
  {
   "cell_type": "code",
   "execution_count": 2,
   "metadata": {},
   "outputs": [
    {
     "data": {
      "application/vnd.jupyter.widget-view+json": {
       "model_id": "6d76fc82ffbe405bb3bfe6f351a0171f",
       "version_major": 2,
       "version_minor": 0
      },
      "text/plain": [
       "Turtle()"
      ]
     },
     "metadata": {},
     "output_type": "display_data"
    }
   ],
   "source": [
    "from mobilechelonian import Turtle\n",
    "turtle=Turtle()\n",
    "\n",
    "def line_without_moving():\n",
    "    turtle.forward(100)\n",
    "    turtle.backward(100)\n",
    "    \n",
    " #在此处填入代码"
   ]
  },
  {
   "cell_type": "raw",
   "metadata": {},
   "source": [
    "步骤3：补充完整下列代码，把上面画十字型的代码改写为函数嵌套的形式"
   ]
  },
  {
   "cell_type": "code",
   "execution_count": null,
   "metadata": {},
   "outputs": [],
   "source": [
    "from mobilechelonian import Turtle\n",
    "turtle=Turtle()\n",
    "\n",
    "def line_without_moving():\n",
    "    turtle.forward(100)\n",
    "    turtle.backward(100)\n",
    "    \n",
    " #在此处填入代码\n",
    "\n",
    "draw_cross()"
   ]
  },
  {
   "cell_type": "raw",
   "metadata": {},
   "source": [
    "步骤4：利用学习过的循环进行简化画十字代码"
   ]
  },
  {
   "cell_type": "code",
   "execution_count": null,
   "metadata": {},
   "outputs": [],
   "source": [
    "from mobilechelonian import Turtle\n",
    "turtle=Turtle()\n",
    "\n",
    "def line_without_moving():\n",
    "    turtle.forward(100)\n",
    "    turtle.backward(100)\n",
    "    \n",
    " #在此处填入代码\n",
    "\n",
    "draw_cross()"
   ]
  },
  {
   "cell_type": "raw",
   "metadata": {},
   "source": [
    "练习1：尝试编写函数绘制出蜂窝的图案"
   ]
  },
  {
   "cell_type": "raw",
   "metadata": {},
   "source": [
    "提示\n",
    "蜂窝是由一系列的正六边形构成的，先编写一个绘制正六边的函数，再通过多次函数调用的方式绘制出多个正六边形\n",
    "设计正六边形函数的时候，要让海龟在画完正六边形之后，再次回到起始的位置，并保持龟头方向不变，这样方便我们拼接多个正六边形构成蜂窝的图案\n",
    "在考虑如何用多个正六边形构成蜂窝时，请忽略绘制正六边形的细节（请忘记龟头转了几度，海龟前进了多少距离等细节），只需要知道海龟在绘制单个正六边形时的旋转方向（顺时针还是逆时针），并且海龟在绘制正六边形之后，会回到起始的位置，并保持龟头方向不变\n",
    "在函数调用时忽略函数内部的细节，这事实上就是一种抽象的思维，函数不仅是程序员“偷懒”的工具，更是程序员通过抽象思维，实现复杂逻辑的利器"
   ]
  },
  {
   "cell_type": "code",
   "execution_count": null,
   "metadata": {},
   "outputs": [],
   "source": [
    "from mobilechelonian import Turtle\n",
    "turtle=Turtle()\n",
    "#在此填入练习1的代码"
   ]
  },
  {
   "cell_type": "raw",
   "metadata": {},
   "source": [
    "步骤5：还记得我们说过的小人扫地吗？参数就像是让小人可以去你指定的房间扫地。而在海龟画线中，我们可以通过参数传递我们需要画线的长度，我们对之前的line_without_moving 函数进行修改，让它可以按照我们的意愿来画线吧"
   ]
  },
  {
   "cell_type": "code",
   "execution_count": 4,
   "metadata": {},
   "outputs": [],
   "source": [
    "def line_without_moving(length):\n",
    "    turtle.forward(length)\n",
    "    turtle.backward(length)"
   ]
  },
  {
   "cell_type": "raw",
   "metadata": {},
   "source": [
    "步骤6：再次运行画十字的代码，利用修改后的函数，控制线的长短"
   ]
  },
  {
   "cell_type": "code",
   "execution_count": null,
   "metadata": {},
   "outputs": [],
   "source": [
    "from mobilechelonian import Turtle\n",
    "turtle=Turtle()\n",
    "\n",
    "#在此处填入代码\n"
   ]
  },
  {
   "cell_type": "raw",
   "metadata": {},
   "source": [
    "实训：尝试编写一个带参数的函数，实现任意正多边形的绘制"
   ]
  },
  {
   "cell_type": "raw",
   "metadata": {},
   "source": [
    "提示\n",
    "\n",
    "设计一个名为 draw_polygon 的函数来绘制任意正多边形\n",
    "draw_polygon 接受 2 个参数 sides 和 length（多个参数之间用英文逗号分隔）\n",
    "sides 用于控制正多边形的边数（内角）\n",
    "length 用于控制正多边的边长（大小）\n",
    "函数原型："
   ]
  },
  {
   "cell_type": "code",
   "execution_count": null,
   "metadata": {},
   "outputs": [],
   "source": [
    "from mobilechelonian import Turtle\n",
    "turtle=Turtle()\n",
    "\n",
    "def draw_polygon(sides, length):\n",
    "#在此处填入代码\n"
   ]
  }
 ],
 "metadata": {
  "kernelspec": {
   "display_name": "Python 3",
   "language": "python",
   "name": "python3"
  },
  "language_info": {
   "codemirror_mode": {
    "name": "ipython",
    "version": 3
   },
   "file_extension": ".py",
   "mimetype": "text/x-python",
   "name": "python",
   "nbconvert_exporter": "python",
   "pygments_lexer": "ipython3",
   "version": "3.7.3"
  }
 },
 "nbformat": 4,
 "nbformat_minor": 2
}
