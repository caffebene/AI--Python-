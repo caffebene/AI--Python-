{
 "cells": [
  {
   "cell_type": "raw",
   "metadata": {},
   "source": [
    "步骤1：补充完整下列代码，利用matplotlib库来画一个点"
   ]
  },
  {
   "cell_type": "code",
   "execution_count": null,
   "metadata": {},
   "outputs": [],
   "source": [
    "import matplotlib.pyplot as plt\n",
    "\n",
    " #在此处填入代码\n",
    "\n",
    "plt.show()"
   ]
  },
  {
   "cell_type": "markdown",
   "metadata": {},
   "source": [
    "步骤2：补充完整下列代码，利用matplotlib库来画y=x的直线"
   ]
  },
  {
   "cell_type": "code",
   "execution_count": null,
   "metadata": {},
   "outputs": [],
   "source": [
    "import matplotlib.pyplot as plt\n",
    "\n",
    "x = []\n",
    "y = []\n",
    "\n",
    " #在此处填入代码\n",
    "\n",
    "plt.title(\"y=x function\")\n",
    "plt.show()"
   ]
  },
  {
   "cell_type": "raw",
   "metadata": {},
   "source": [
    "步骤3：补充完整下列代码，绘制sigmoid函数曲线"
   ]
  },
  {
   "cell_type": "code",
   "execution_count": null,
   "metadata": {},
   "outputs": [],
   "source": [
    "import numpy as np\n",
    "import matplotlib.pyplot as pt\n",
    "\n",
    "x1 =[]\n",
    "x2 = []\n",
    "y1 =[]\n",
    "y2 = []\n",
    "for i in range(1000):\n",
    "     #在此处填入代码\n",
    "\n",
    "pt.xlim(-10, 10)\n",
    "pt.ylim(0, 1.1)\n",
    "pt.title(\"sigmoid function\")\n",
    "\n",
    "pt.show()"
   ]
  },
  {
   "cell_type": "raw",
   "metadata": {},
   "source": [
    "步骤4：补充完整下列代码，利用NumPy库进行一些修改，绘制sigmoid函数曲线"
   ]
  },
  {
   "cell_type": "code",
   "execution_count": null,
   "metadata": {},
   "outputs": [],
   "source": [
    "import numpy as np\n",
    "import matplotlib.pyplot as pt\n",
    "\n",
    "x = np.arange(-10, 10 , 0.01)\n",
    "# 如果打印 x ，NumPy 会给你很好看的打印格式\n",
    "# print(x)\n",
    "\n",
    "#在此处填入代码\n",
    "\n",
    "pt.show()"
   ]
  },
  {
   "cell_type": "raw",
   "metadata": {},
   "source": [
    "步骤5：补充完整下列代码，绘制ReLU激活函数"
   ]
  },
  {
   "cell_type": "code",
   "execution_count": null,
   "metadata": {},
   "outputs": [],
   "source": [
    "import matplotlib.pyplot as plt\n",
    "\n",
    "x1 = []\n",
    "y1 = []\n",
    "x2 = []\n",
    "\n",
    "#在此处填入代码\n",
    "\n",
    "plt.title(\"ReLU function\")\n",
    "plt.show()"
   ]
  },
  {
   "cell_type": "code",
   "execution_count": null,
   "metadata": {},
   "outputs": [],
   "source": [
    "步骤6：补充完整下列代码，绘制三维螺旋形"
   ]
  },
  {
   "cell_type": "code",
   "execution_count": null,
   "metadata": {},
   "outputs": [],
   "source": [
    "import numpy as np\n",
    "import matplotlib.pyplot as plt\n",
    "\n",
    "fig = plt.figure(figsize = ((8,6)))\n",
    "# theta旋转角从-4pi到4pi，相当于两圈\n",
    "# z轴从下到上,从-2到2之间画100个点\n",
    "# 半径设置为z大小\n",
    "# x和y画圆\n",
    "# x和y画圆\n",
    "\n",
    "plt.show()"
   ]
  },
  {
   "cell_type": "raw",
   "metadata": {},
   "source": [
    "实训：绘制马鞍面"
   ]
  },
  {
   "cell_type": "code",
   "execution_count": null,
   "metadata": {},
   "outputs": [],
   "source": [
    "import numpy as np\n",
    "import matplotlib.pyplot as plt\n",
    "from matplotlib import cm\n",
    "\n",
    "#在此处填入代码\n",
    "#曲面衔接角度（平滑度）\n",
    "#鞍部半径（1：锐角，20：平滑角）\n",
    "\n",
    "ax.plot_trisurf(x, y, z,\n",
    "                cmap=cm.jet,    #曲面颜色\n",
    "                linewidth=0.2)\n",
    "plt.show()"
   ]
  }
 ],
 "metadata": {
  "kernelspec": {
   "display_name": "Python 3",
   "language": "python",
   "name": "python3"
  },
  "language_info": {
   "codemirror_mode": {
    "name": "ipython",
    "version": 3
   },
   "file_extension": ".py",
   "mimetype": "text/x-python",
   "name": "python",
   "nbconvert_exporter": "python",
   "pygments_lexer": "ipython3",
   "version": "3.7.3"
  }
 },
 "nbformat": 4,
 "nbformat_minor": 2
}
