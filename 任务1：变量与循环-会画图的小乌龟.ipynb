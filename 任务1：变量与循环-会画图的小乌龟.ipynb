{
 "cells": [
  {
   "cell_type": "raw",
   "metadata": {},
   "source": [
    "Python自带了一个非常有趣的画海龟程序（turtle），这也是本次课程有趣的主角"
   ]
  },
  {
   "cell_type": "raw",
   "metadata": {},
   "source": [
    "步骤1：召唤我们可爱的小精灵"
   ]
  },
  {
   "cell_type": "code",
   "execution_count": null,
   "metadata": {},
   "outputs": [],
   "source": [
    "import turtle\n",
    "turtle.shape(\"turtle\")\n",
    "turtle.exitonclick()"
   ]
  },
  {
   "cell_type": "markdown",
   "metadata": {},
   "source": [
    "步骤2：补充完整下列代码，设置为海龟形状，并让海龟前进200个单位长度"
   ]
  },
  {
   "cell_type": "code",
   "execution_count": 1,
   "metadata": {},
   "outputs": [],
   "source": [
    "import turtle\n",
    "\n",
    " #在此处填入设置为海龟形状的代码，并让海龟前进200个单位长度\n",
    "turtle.shape(\"turtle\")\n",
    "turtle.forward(200)\n",
    "    \n",
    "turtle.exitonclick()"
   ]
  },
  {
   "cell_type": "raw",
   "metadata": {},
   "source": [
    "步骤2：补充完整下列代码，让海龟转向45度，并让海龟前进200个单位长度"
   ]
  },
  {
   "cell_type": "code",
   "execution_count": null,
   "metadata": {},
   "outputs": [],
   "source": [
    "import turtle\n",
    "\n",
    " #让海龟转向45度，并让海龟前进200个单位长度\n",
    "    \n",
    "turtle.exitonclick()"
   ]
  },
  {
   "cell_type": "raw",
   "metadata": {},
   "source": [
    "练习1：尝试让小海龟画一个正方形（图见课件）"
   ]
  },
  {
   "cell_type": "code",
   "execution_count": null,
   "metadata": {},
   "outputs": [],
   "source": [
    "#在此填入练习1的代码"
   ]
  },
  {
   "cell_type": "raw",
   "metadata": {},
   "source": [
    "练习2：尝试画出 3 个交错叠加的正方形"
   ]
  },
  {
   "cell_type": "code",
   "execution_count": null,
   "metadata": {},
   "outputs": [],
   "source": [
    "#在此填入练习2的代码"
   ]
  },
  {
   "cell_type": "raw",
   "metadata": {},
   "source": [
    "步骤4：利用变量移动海龟"
   ]
  },
  {
   "cell_type": "code",
   "execution_count": 4,
   "metadata": {},
   "outputs": [],
   "source": [
    "import turtle\n",
    "turtle.shape(\"turtle\")\n",
    "x = 100\n",
    "turtle.forward(x)\n",
    "turtle.left(45)\n",
    "turtle.forward(2*x)\n",
    " \n",
    "turtle.exitonclick()"
   ]
  },
  {
   "cell_type": "raw",
   "metadata": {},
   "source": [
    "步骤5：将一只海龟赋值给了变量 A"
   ]
  },
  {
   "cell_type": "code",
   "execution_count": null,
   "metadata": {},
   "outputs": [],
   "source": [
    "import turtle\n",
    "\n",
    "#在此处填入代码\n",
    "\n",
    "turtle.exitonclick()"
   ]
  },
  {
   "cell_type": "raw",
   "metadata": {},
   "source": [
    "步骤6：尝试画个房子（使用变量来完成，尝试调整变量的值，绘制出不同大小的房子）\n",
    "你可能会需要用到开根号的运算，引入 math 模块，然后使用 math 模块的 sqrt 方法可以进行开根号的运算。\n",
    "例如，下面的代码，计算 5 的平方根，并将计算结果赋值给变量 x"
   ]
  },
  {
   "cell_type": "code",
   "execution_count": null,
   "metadata": {},
   "outputs": [],
   "source": [
    "import math\n",
    "x = math.sqrt(5)"
   ]
  },
  {
   "cell_type": "code",
   "execution_count": null,
   "metadata": {},
   "outputs": [],
   "source": [
    "import turtle\n",
    "import math\n",
    "\n",
    "#在此处填入代码\n",
    "\n",
    "turtle.exitonclick()"
   ]
  },
  {
   "cell_type": "raw",
   "metadata": {},
   "source": [
    "步骤6：尝试通过循环完成练习1"
   ]
  },
  {
   "cell_type": "code",
   "execution_count": null,
   "metadata": {},
   "outputs": [],
   "source": [
    "import turtle\n",
    " \n",
    "#for i in range():\n",
    "#补充完整代码\n",
    " \n",
    "turtle.exitonclick()"
   ]
  },
  {
   "cell_type": "raw",
   "metadata": {},
   "source": [
    "实训：我们要运用已经学到的变量知识将小明变成一只海龟,将海龟赋值给XiaoMing，然后让XiaoMing通过循环完成图像的绘画"
   ]
  },
  {
   "cell_type": "code",
   "execution_count": null,
   "metadata": {},
   "outputs": [],
   "source": [
    "import turtle\n",
    " \n",
    "#在此处填入代码\n",
    " \n",
    "XiaoMing.exitonclick()"
   ]
  }
 ],
 "metadata": {
  "kernelspec": {
   "display_name": "Python 3",
   "language": "python",
   "name": "python3"
  },
  "language_info": {
   "codemirror_mode": {
    "name": "ipython",
    "version": 3
   },
   "file_extension": ".py",
   "mimetype": "text/x-python",
   "name": "python",
   "nbconvert_exporter": "python",
   "pygments_lexer": "ipython3",
   "version": "3.7.3"
  }
 },
 "nbformat": 4,
 "nbformat_minor": 2
}
